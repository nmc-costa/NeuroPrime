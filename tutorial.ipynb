{
 "cells": [
  {
   "cell_type": "markdown",
   "id": "87166685",
   "metadata": {
    "colab_type": "text",
    "id": "view-in-github"
   },
   "source": [
    "<a href=\"https://colab.research.google.com/github/nmc-costa/neuroprime/blob/tutorial.ipynb\" target=\"_parent\"><img src=\"https://colab.research.google.com/assets/colab-badge.svg\" alt=\"Open In Colab\"/></a>\n"
   ]
  },
  {
   "cell_type": "markdown",
   "id": "a85aaa82",
   "metadata": {
    "id": "t6MPjfT5NrKQ"
   },
   "source": [
    "<a align=\"left\" href=\"https://www.mdpi.com/2076-3417/11/16/7725\" target=\"_blank\">\n",
    "<img src=\"https://github.com/nmc-costa/neuroprime/blob/master/neuroprime_diagram.png?raw=true\"></a>\n",
    "\n",
    "This is the **official NeuroPrime Tutorial notebook** by **nmc-costa**, and is freely available for redistribution under the [GPL-2.0 license](https://choosealicense.com/licenses/gpl-2.0/). \n",
    "For more information please visit https://github.com/nmc-costa/neuroprime. \n",
    "\n",
    "Click on the image to redidecionate to last paper.                                                                                      \n",
    "Thank you!"
   ]
  },
  {
   "cell_type": "markdown",
   "id": "4d5c98d1",
   "metadata": {
    "id": "7mGmQbAO5pQb"
   },
   "source": [
    "# Setup\n",
    "\n",
    "Clone repo, install dependencies and check platform (! calls out to a shell (in a new process), while % affects the process associated with the notebook)\n",
    "\n",
    "WARNING: \n",
    "- Please first install miniconda https://docs.conda.io/en/latest/miniconda.html.\n",
    "- Then please make miniconda paths persistent in environment variables: PATH=path\\to\\Anaconda2;path\\to\\Anaconda2\\Scripts;path\\to\\Anaconda2\\Library\\bin;%PATH%"
   ]
  },
  {
   "cell_type": "code",
   "execution_count": 2,
   "id": "ed7932b9",
   "metadata": {},
   "outputs": [
    {
     "name": "stdout",
     "output_type": "stream",
     "text": [
      "C:\\Users\\nmc_costa\\Desktop\n"
     ]
    }
   ],
   "source": [
    "%cd ~/Desktop"
   ]
  },
  {
   "cell_type": "code",
   "execution_count": 10,
   "id": "958567f4",
   "metadata": {
    "colab": {
     "base_uri": "https://localhost:8080/"
    },
    "id": "wbvMlHd_QwMG",
    "outputId": "4d67116a-43e9-4d84-d19e-1edd83f23a04"
   },
   "outputs": [
    {
     "name": "stdout",
     "output_type": "stream",
     "text": [
      "C:\\Users\\nmc_costa\\Desktop\n"
     ]
    },
    {
     "name": "stderr",
     "output_type": "stream",
     "text": [
      "Cloning into 'neuroprime'...\n"
     ]
    }
   ],
   "source": [
    "!git clone --recursive \"https://github.com/nmc-costa/neuroprime.git\""
   ]
  },
  {
   "cell_type": "code",
   "execution_count": null,
   "id": "1b6ab402",
   "metadata": {},
   "outputs": [],
   "source": [
    "!conda env create -f neuroprime/requirements/conda/windows.yml"
   ]
  },
  {
   "cell_type": "markdown",
   "id": "f2994708",
   "metadata": {},
   "source": [
    "Now, please open an anaconda prompt terminal and check if neuropirme environment is active:\n",
    "- conda activate neuroprime\n",
    "- conda list\n",
    "\n",
    "If pip failed(this is the updated pip install in Windows 11 31/8/2021):\n",
    "1. pip install pygame pyparallel pypiwin32 mne==0.17.* mushu wyrm pylsl pyusb nibabel\n",
    "2. pip install visionegg multiprocessing\n",
    "3. pip install psychopy --no-deps\n",
    "4. pip install -i https://pypi.anaconda.org/ales-erjavec/simple pyqt4\n",
    "5. pip install matplotlib==2.1.0\n",
    "6. cd  ./Desktop\n",
    "7. pip install -e neuroprime\n",
    "\n",
    "If errors during pip installation, see detailed steps in: requirements/conda/how_to_windows11"
   ]
  },
  {
   "cell_type": "code",
   "execution_count": 8,
   "id": "0743abe7",
   "metadata": {},
   "outputs": [
    {
     "name": "stdout",
     "output_type": "stream",
     "text": [
      "Setup complete. Using OS Windows-10-10.0.22000-SP0\n"
     ]
    }
   ],
   "source": [
    "import platform\n",
    "print('OS: {}'.format(platform.platform()))\n",
    "from IPython.display import Image, clear_output  # to display images\n",
    "clear_output()\n",
    "print(f\"Setup complete. Using OS {platform.platform()}\")"
   ]
  },
  {
   "cell_type": "markdown",
   "id": "19e3160d",
   "metadata": {
    "id": "4JnkELT0cIJg"
   },
   "source": [
    "# Simulate \n",
    "First close any previous shell"
   ]
  },
  {
   "cell_type": "markdown",
   "id": "2e9d8238",
   "metadata": {},
   "source": [
    "## Full BCI simulation"
   ]
  },
  {
   "cell_type": "markdown",
   "id": "1857f156",
   "metadata": {},
   "source": [
    "Double click in; \"neuroprime/neuroprime/src/batchs/start_bci_simulate.bat\n",
    "\n",
    "Each shell opens at a time interval:\n",
    "1. Signal presentation shell (pyff) starts\n",
    "2. Signal acquistion EEG shell starts - WARNING: you need to click enter in the shell to start simulating before starting the experiment\n",
    "3. Signal acquistion GSR&HR shell starts\n",
    "4. Signal processing Experiment shell starts - make sure the previous are running, and click ok. "
   ]
  },
  {
   "cell_type": "markdown",
   "id": "755ce12e",
   "metadata": {},
   "source": [
    "## Individual class simulation"
   ]
  },
  {
   "cell_type": "markdown",
   "id": "dab9341f",
   "metadata": {},
   "source": [
    "### 1. Start Signal Presentation in a separate console"
   ]
  },
  {
   "cell_type": "code",
   "execution_count": 17,
   "id": "53747fdd",
   "metadata": {},
   "outputs": [],
   "source": [
    "!call \"neuroprime/neuroprime/src/batchs/start_pyff_windows.bat"
   ]
  },
  {
   "cell_type": "markdown",
   "id": "bb431b29",
   "metadata": {},
   "source": [
    "### 2. Start simulating Signal Acquisition in a separate console"
   ]
  },
  {
   "cell_type": "code",
   "execution_count": 18,
   "id": "f6b9fda9",
   "metadata": {},
   "outputs": [],
   "source": [
    "!call \"neuroprime/neuroprime/src/batchs/start_eeg_simulate.bat\""
   ]
  },
  {
   "cell_type": "markdown",
   "id": "ead103a9",
   "metadata": {},
   "source": [
    "### 2. Start simulating Signal Acquisition in a separate console"
   ]
  },
  {
   "cell_type": "code",
   "execution_count": 19,
   "id": "b65419f4",
   "metadata": {},
   "outputs": [],
   "source": [
    "!call \"neuroprime/neuroprime/src/batchs/start_gsr_hr_simulate.bat\""
   ]
  },
  {
   "cell_type": "markdown",
   "id": "1d0c7a4d",
   "metadata": {},
   "source": [
    "### 3. Start Signal Processing in a separate console\n",
    "NOTE:only testclass.py works in jupyter call, to test the others you need to call in an outside shell due to the ipykernel. "
   ]
  },
  {
   "cell_type": "code",
   "execution_count": null,
   "id": "3d284039",
   "metadata": {},
   "outputs": [],
   "source": [
    "!start \"BCI SIMULATE CONSOLE\" cmd /c call activate neuroprime ^& python \"neuroprime/neuroprime/src/brain_interfaces/e2_bci/testclass.py\" ^& pause"
   ]
  }
 ],
 "metadata": {
  "kernelspec": {
   "display_name": "Python 3",
   "language": "python",
   "name": "python3"
  },
  "language_info": {
   "codemirror_mode": {
    "name": "ipython",
    "version": 3
   },
   "file_extension": ".py",
   "mimetype": "text/x-python",
   "name": "python",
   "nbconvert_exporter": "python",
   "pygments_lexer": "ipython3",
   "version": "3.7.7"
  }
 },
 "nbformat": 4,
 "nbformat_minor": 5
}
